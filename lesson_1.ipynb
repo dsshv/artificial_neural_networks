{
 "cells": [
  {
   "cell_type": "markdown",
   "source": [],
   "metadata": {
    "collapsed": false,
    "pycharm": {
     "name": "#%% md\n"
    }
   }
  },
  {
   "cell_type": "code",
   "execution_count": 80,
   "outputs": [],
   "source": [
    "import random\n",
    "import matplotlib.pyplot as plt\n",
    "\n",
    "# CONSTANTS\n",
    "\n",
    "ONE_MAX_LENGTH = 100 #str length\n",
    "\n",
    "POPULATION_SIZE = 200   #individs count\n",
    "P_CROSSOVER = 0.9       #crossover probability\n",
    "P_MUTATION = 0.1        # mutation probability\n",
    "MAX_GENERATION = 50     # max generations count"
   ],
   "metadata": {
    "collapsed": false,
    "pycharm": {
     "name": "#%%\n"
    }
   }
  },
  {
   "cell_type": "code",
   "execution_count": 81,
   "outputs": [],
   "source": [
    "RANDOM_SEED = 42\n",
    "random.seed(RANDOM_SEED)"
   ],
   "metadata": {
    "collapsed": false,
    "pycharm": {
     "name": "#%%\n"
    }
   }
  },
  {
   "cell_type": "code",
   "execution_count": 82,
   "outputs": [],
   "source": [
    "class FitnessMax:\n",
    "    def __init__(self):\n",
    "        self.values = [0]\n",
    "\n",
    "\n",
    "class Individual(list):\n",
    "    def __init__(self, *args):\n",
    "        super().__init__(*args)\n",
    "        self.fitness = FitnessMax()"
   ],
   "metadata": {
    "collapsed": false,
    "pycharm": {
     "name": "#%%\n"
    }
   }
  },
  {
   "cell_type": "code",
   "execution_count": 83,
   "outputs": [],
   "source": [
    "# func for calculation individual fitness\n",
    "\n",
    "def oneMaxFitness(individual):\n",
    "    return sum(individual), # кортеж"
   ],
   "metadata": {
    "collapsed": false,
    "pycharm": {
     "name": "#%%\n"
    }
   }
  },
  {
   "cell_type": "code",
   "execution_count": 84,
   "outputs": [],
   "source": [
    "# funcs for create individual asd population\n",
    "\n",
    "def individualCreator():\n",
    "    return Individual([random.randint(0, 1) for i in range(ONE_MAX_LENGTH)])\n",
    "\n",
    "def populationCreator(n = 0):\n",
    "    return list([individualCreator() for i in range(n)])"
   ],
   "metadata": {
    "collapsed": false,
    "pycharm": {
     "name": "#%%\n"
    }
   }
  },
  {
   "cell_type": "code",
   "execution_count": 85,
   "outputs": [],
   "source": [
    "# init start population\n",
    "\n",
    "population = populationCreator(n=POPULATION_SIZE)\n",
    "generationCounter = 0"
   ],
   "metadata": {
    "collapsed": false,
    "pycharm": {
     "name": "#%%\n"
    }
   }
  },
  {
   "cell_type": "code",
   "execution_count": 86,
   "outputs": [],
   "source": [
    "# calculating current value of fitness\n",
    "\n",
    "fitnessValues = list(map(oneMaxFitness, population))\n",
    "\n",
    "for individual, fitnessValue in zip(population, fitnessValues):\n",
    "    individual.fitness.values = fitnessValue"
   ],
   "metadata": {
    "collapsed": false,
    "pycharm": {
     "name": "#%%\n"
    }
   }
  },
  {
   "cell_type": "code",
   "execution_count": 87,
   "outputs": [],
   "source": [
    "max_fitness_values = []\n",
    "mean_fitness_values = []"
   ],
   "metadata": {
    "collapsed": false,
    "pycharm": {
     "name": "#%%\n"
    }
   }
  },
  {
   "cell_type": "code",
   "execution_count": 88,
   "outputs": [],
   "source": [
    "def clone(value):\n",
    "    ind = Individual(value[:])\n",
    "    ind.fitness.values[0] = value.fitness.values[0]\n",
    "    return ind\n",
    "\n",
    "\n",
    "def selTournament(population, p_len):\n",
    "    offspring = []\n",
    "    for n in range(p_len):\n",
    "        i1 = i2 = i3 = 0\n",
    "        while i1 == i2 or i1 == i3 or i2 == i3:\n",
    "            i1, i2, i3 = random.randint(0, p_len-1), random.randint(0, p_len-1), random.randint(0, p_len-1)\n",
    "\n",
    "        offspring.append(max([population[i1], population[i2], population[i3]], key=lambda ind: ind.fitness.values[0]))\n",
    "\n",
    "    return offspring"
   ],
   "metadata": {
    "collapsed": false,
    "pycharm": {
     "name": "#%%\n"
    }
   }
  }
 ],
 "metadata": {
  "kernelspec": {
   "display_name": "Python 3",
   "language": "python",
   "name": "python3"
  },
  "language_info": {
   "codemirror_mode": {
    "name": "ipython",
    "version": 2
   },
   "file_extension": ".py",
   "mimetype": "text/x-python",
   "name": "python",
   "nbconvert_exporter": "python",
   "pygments_lexer": "ipython2",
   "version": "2.7.6"
  }
 },
 "nbformat": 4,
 "nbformat_minor": 0
}