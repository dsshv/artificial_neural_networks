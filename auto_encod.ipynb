{
  "cells": [
    {
      "cell_type": "markdown",
      "metadata": {
        "id": "view-in-github",
        "colab_type": "text"
      },
      "source": [
        "<a href=\"https://colab.research.google.com/github/dsshv/artificial_neural_networks/blob/main/auto_encod.ipynb\" target=\"_parent\"><img src=\"https://colab.research.google.com/assets/colab-badge.svg\" alt=\"Open In Colab\"/></a>"
      ]
    },
    {
      "cell_type": "code",
      "execution_count": null,
      "metadata": {
        "colab": {
          "base_uri": "https://localhost:8080/"
        },
        "id": "OHQ7Wz4C9qJ9",
        "outputId": "c788fc0a-3f4e-47b9-80e3-c3798516cd72"
      },
      "outputs": [
        {
          "name": "stdout",
          "output_type": "stream",
          "text": [
            "Downloading data from https://storage.googleapis.com/tensorflow/tf-keras-datasets/mnist.npz\n",
            "11490434/11490434 [==============================] - 0s 0us/step\n"
          ]
        }
      ],
      "source": [
        "from keras.datasets import mnist\n",
        "import numpy as np\n",
        "\n",
        "(x_train, y_train), (x_test, y_test) = mnist.load_data()\n",
        "\n",
        "x_train = x_train.astype('float32') / 255.\n",
        "x_test  = x_test .astype('float32') / 255.\n",
        "x_train = np.reshape(x_train, (len(x_train), 28, 28, 1))\n",
        "x_test  = np.reshape(x_test,  (len(x_test),  28, 28, 1))"
      ]
    },
    {
      "cell_type": "code",
      "execution_count": null,
      "metadata": {
        "id": "1WEz4ofP95hC"
      },
      "outputs": [],
      "source": [
        "from keras.layers import Input, Dense, Flatten, Reshape\n",
        "from keras.models import Model\n",
        "\n",
        "def create_dense_ae():\n",
        "    # Размерность кодированного представления\n",
        "    encoding_dim = 49\n",
        "\n",
        "    # Энкодер\n",
        "    # Входной плейсхолдер\n",
        "    input_img = Input(shape=(28, 28, 1)) # 28, 28, 1 - размерности строк, столбцов, фильтров одной картинки, без батч-размерности\n",
        "    # Вспомогательный слой решейпинга\n",
        "    flat_img = Flatten()(input_img)\n",
        "    # Кодированное полносвязным слоем представление\n",
        "    encoded = Dense(encoding_dim, activation='relu')(flat_img)\n",
        "    \n",
        "    # Декодер\n",
        "    # Раскодированное другим полносвязным слоем изображение\n",
        "    input_encoded = Input(shape=(encoding_dim,))\n",
        "    flat_decoded = Dense(28*28, activation='sigmoid')(input_encoded)\n",
        "    decoded = Reshape((28, 28, 1))(flat_decoded)\n",
        "\n",
        "    # Модели, в конструктор первым аргументом передаются входные слои, а вторым выходные слои\n",
        "    # Другие модели можно так же использовать как и слои\n",
        "    encoder = Model(input_img, encoded, name=\"encoder\")\n",
        "    decoder = Model(input_encoded, decoded, name=\"decoder\")\n",
        "    autoencoder = Model(input_img, decoder(encoder(input_img)), name=\"autoencoder\")\n",
        "    return encoder, decoder, autoencoder"
      ]
    },
    {
      "cell_type": "code",
      "execution_count": null,
      "metadata": {
        "id": "tcx0rorKHjLc"
      },
      "outputs": [],
      "source": [
        "encoder, decoder, autoencoder = create_dense_ae()\n",
        "autoencoder.compile(optimizer='adam', loss='binary_crossentropy')"
      ]
    },
    {
      "cell_type": "code",
      "execution_count": null,
      "metadata": {
        "colab": {
          "base_uri": "https://localhost:8080/"
        },
        "id": "7vrwkGHHHld3",
        "outputId": "5fcb9757-708a-4998-fa9b-af040dc6a74b"
      },
      "outputs": [
        {
          "name": "stdout",
          "output_type": "stream",
          "text": [
            "Model: \"autoencoder\"\n",
            "_________________________________________________________________\n",
            " Layer (type)                Output Shape              Param #   \n",
            "=================================================================\n",
            " input_1 (InputLayer)        [(None, 28, 28, 1)]       0         \n",
            "                                                                 \n",
            " encoder (Functional)        (None, 49)                38465     \n",
            "                                                                 \n",
            " decoder (Functional)        (None, 28, 28, 1)         39200     \n",
            "                                                                 \n",
            "=================================================================\n",
            "Total params: 77,665\n",
            "Trainable params: 77,665\n",
            "Non-trainable params: 0\n",
            "_________________________________________________________________\n"
          ]
        }
      ],
      "source": [
        "autoencoder.summary()"
      ]
    },
    {
      "cell_type": "code",
      "execution_count": null,
      "metadata": {
        "colab": {
          "base_uri": "https://localhost:8080/"
        },
        "id": "vVJsZFOOHsR7",
        "outputId": "43ef5db0-2346-4bba-c60a-abb1b56a9b33"
      },
      "outputs": [
        {
          "name": "stdout",
          "output_type": "stream",
          "text": [
            "Epoch 1/50\n",
            "235/235 [==============================] - 5s 15ms/step - loss: 0.2608 - val_loss: 0.1765\n",
            "Epoch 2/50\n",
            "235/235 [==============================] - 3s 14ms/step - loss: 0.1556 - val_loss: 0.1362\n",
            "Epoch 3/50\n",
            "235/235 [==============================] - 4s 15ms/step - loss: 0.1271 - val_loss: 0.1171\n",
            "Epoch 4/50\n",
            "235/235 [==============================] - 4s 18ms/step - loss: 0.1122 - val_loss: 0.1054\n",
            "Epoch 5/50\n",
            "235/235 [==============================] - 6s 27ms/step - loss: 0.1025 - val_loss: 0.0978\n",
            "Epoch 6/50\n",
            "235/235 [==============================] - 7s 31ms/step - loss: 0.0955 - val_loss: 0.0916\n",
            "Epoch 7/50\n",
            "235/235 [==============================] - 4s 15ms/step - loss: 0.0905 - val_loss: 0.0875\n",
            "Epoch 8/50\n",
            "235/235 [==============================] - 3s 13ms/step - loss: 0.0870 - val_loss: 0.0846\n",
            "Epoch 9/50\n",
            "235/235 [==============================] - 4s 18ms/step - loss: 0.0846 - val_loss: 0.0827\n",
            "Epoch 10/50\n",
            "235/235 [==============================] - 5s 22ms/step - loss: 0.0830 - val_loss: 0.0815\n",
            "Epoch 11/50\n",
            "235/235 [==============================] - 3s 14ms/step - loss: 0.0819 - val_loss: 0.0807\n",
            "Epoch 12/50\n",
            "235/235 [==============================] - 6s 24ms/step - loss: 0.0812 - val_loss: 0.0801\n",
            "Epoch 13/50\n",
            "235/235 [==============================] - 5s 20ms/step - loss: 0.0807 - val_loss: 0.0797\n",
            "Epoch 14/50\n",
            "235/235 [==============================] - 3s 13ms/step - loss: 0.0804 - val_loss: 0.0794\n",
            "Epoch 15/50\n",
            "235/235 [==============================] - 5s 21ms/step - loss: 0.0801 - val_loss: 0.0791\n",
            "Epoch 16/50\n",
            "235/235 [==============================] - 3s 13ms/step - loss: 0.0799 - val_loss: 0.0790\n",
            "Epoch 17/50\n",
            "235/235 [==============================] - 3s 13ms/step - loss: 0.0797 - val_loss: 0.0789\n",
            "Epoch 18/50\n",
            "235/235 [==============================] - 3s 13ms/step - loss: 0.0796 - val_loss: 0.0787\n",
            "Epoch 19/50\n",
            "235/235 [==============================] - 6s 26ms/step - loss: 0.0795 - val_loss: 0.0786\n",
            "Epoch 20/50\n",
            "235/235 [==============================] - 6s 27ms/step - loss: 0.0794 - val_loss: 0.0785\n",
            "Epoch 21/50\n",
            "235/235 [==============================] - 5s 20ms/step - loss: 0.0793 - val_loss: 0.0785\n",
            "Epoch 22/50\n",
            "235/235 [==============================] - 3s 14ms/step - loss: 0.0792 - val_loss: 0.0784\n",
            "Epoch 23/50\n",
            "235/235 [==============================] - 3s 13ms/step - loss: 0.0791 - val_loss: 0.0783\n",
            "Epoch 24/50\n",
            "235/235 [==============================] - 4s 16ms/step - loss: 0.0791 - val_loss: 0.0783\n",
            "Epoch 25/50\n",
            "235/235 [==============================] - 4s 16ms/step - loss: 0.0790 - val_loss: 0.0782\n",
            "Epoch 26/50\n",
            "235/235 [==============================] - 3s 13ms/step - loss: 0.0790 - val_loss: 0.0782\n",
            "Epoch 27/50\n",
            "235/235 [==============================] - 3s 13ms/step - loss: 0.0789 - val_loss: 0.0781\n",
            "Epoch 28/50\n",
            "235/235 [==============================] - 4s 18ms/step - loss: 0.0789 - val_loss: 0.0781\n",
            "Epoch 29/50\n",
            "235/235 [==============================] - 3s 13ms/step - loss: 0.0789 - val_loss: 0.0781\n",
            "Epoch 30/50\n",
            "235/235 [==============================] - 3s 14ms/step - loss: 0.0788 - val_loss: 0.0780\n",
            "Epoch 31/50\n",
            "235/235 [==============================] - 3s 14ms/step - loss: 0.0788 - val_loss: 0.0780\n",
            "Epoch 32/50\n",
            "235/235 [==============================] - 4s 19ms/step - loss: 0.0788 - val_loss: 0.0780\n",
            "Epoch 33/50\n",
            "235/235 [==============================] - 3s 13ms/step - loss: 0.0787 - val_loss: 0.0780\n",
            "Epoch 34/50\n",
            "235/235 [==============================] - 3s 14ms/step - loss: 0.0787 - val_loss: 0.0780\n",
            "Epoch 35/50\n",
            "235/235 [==============================] - 4s 16ms/step - loss: 0.0787 - val_loss: 0.0780\n",
            "Epoch 36/50\n",
            "235/235 [==============================] - 4s 16ms/step - loss: 0.0787 - val_loss: 0.0779\n",
            "Epoch 37/50\n",
            "235/235 [==============================] - 3s 13ms/step - loss: 0.0786 - val_loss: 0.0780\n",
            "Epoch 38/50\n",
            "235/235 [==============================] - 3s 13ms/step - loss: 0.0786 - val_loss: 0.0779\n",
            "Epoch 39/50\n",
            "235/235 [==============================] - 5s 19ms/step - loss: 0.0786 - val_loss: 0.0779\n",
            "Epoch 40/50\n",
            "235/235 [==============================] - 3s 13ms/step - loss: 0.0786 - val_loss: 0.0779\n",
            "Epoch 41/50\n",
            "235/235 [==============================] - 3s 13ms/step - loss: 0.0786 - val_loss: 0.0781\n",
            "Epoch 42/50\n",
            "235/235 [==============================] - 3s 13ms/step - loss: 0.0786 - val_loss: 0.0778\n",
            "Epoch 43/50\n",
            "235/235 [==============================] - 4s 19ms/step - loss: 0.0786 - val_loss: 0.0778\n",
            "Epoch 44/50\n",
            "235/235 [==============================] - 4s 16ms/step - loss: 0.0786 - val_loss: 0.0779\n",
            "Epoch 45/50\n",
            "235/235 [==============================] - 3s 13ms/step - loss: 0.0785 - val_loss: 0.0778\n",
            "Epoch 46/50\n",
            "235/235 [==============================] - 5s 20ms/step - loss: 0.0785 - val_loss: 0.0778\n",
            "Epoch 47/50\n",
            "235/235 [==============================] - 4s 16ms/step - loss: 0.0785 - val_loss: 0.0778\n",
            "Epoch 48/50\n",
            "235/235 [==============================] - 3s 14ms/step - loss: 0.0785 - val_loss: 0.0778\n",
            "Epoch 49/50\n",
            "235/235 [==============================] - 3s 14ms/step - loss: 0.0785 - val_loss: 0.0778\n",
            "Epoch 50/50\n",
            "235/235 [==============================] - 4s 19ms/step - loss: 0.0785 - val_loss: 0.0778\n"
          ]
        },
        {
          "data": {
            "text/plain": [
              "<keras.callbacks.History at 0x7ff880b41ee0>"
            ]
          },
          "execution_count": 6,
          "metadata": {},
          "output_type": "execute_result"
        }
      ],
      "source": [
        "autoencoder.fit(x_train, x_train,\n",
        "                epochs=50,\n",
        "                batch_size=256,\n",
        "                shuffle=True,\n",
        "                validation_data=(x_test, x_test))"
      ]
    },
    {
      "cell_type": "code",
      "execution_count": null,
      "metadata": {
        "id": "98g4pwoIHytD"
      },
      "outputs": [],
      "source": [
        "%matplotlib inline\n",
        "import seaborn as sns\n",
        "import matplotlib.pyplot as plt\n",
        "\n",
        "def plot_digits(*args):\n",
        "    args = [x.squeeze() for x in args]\n",
        "    n = min([x.shape[0] for x in args])\n",
        "    \n",
        "    plt.figure(figsize=(2*n, 2*len(args)))\n",
        "    for j in range(n):\n",
        "        for i in range(len(args)):\n",
        "            ax = plt.subplot(len(args), n, i*n + j + 1)\n",
        "            plt.imshow(args[i][j])\n",
        "            plt.gray()\n",
        "            ax.get_xaxis().set_visible(False)\n",
        "            ax.get_yaxis().set_visible(False)\n",
        "\n",
        "    plt.show()"
      ]
    },
    {
      "cell_type": "code",
      "execution_count": null,
      "metadata": {
        "colab": {
          "base_uri": "https://localhost:8080/"
        },
        "id": "y6XCPzJ0H0dD",
        "outputId": "6c256564-178c-4dc0-f547-1799137e3a55"
      },
      "outputs": [
        {
          "name": "stdout",
          "output_type": "stream",
          "text": [
            "1/1 [==============================] - 0s 209ms/step\n"
          ]
        },
        {
          "data": {
            "text/plain": [
              "array([ 3.570467 ,  6.2902136,  1.9518788,  9.539895 ,  3.3106155,\n",
              "        4.6449895,  6.2625475, 10.93559  ,  7.3083405,  4.467055 ,\n",
              "        5.8940573,  7.977911 ,  7.935444 ,  6.4422245,  1.5014113,\n",
              "       11.187177 ,  8.860933 ,  8.693437 ,  2.715153 ,  8.01613  ,\n",
              "        5.9164586,  5.122113 ,  4.4276085,  4.931912 ,  5.8380914,\n",
              "        8.5386715,  2.3603969, 10.019648 ,  5.38738  ,  3.3310304,\n",
              "        6.2270336,  4.8913336,  1.379148 ,  4.698859 ,  6.1678944,\n",
              "        5.3831697,  1.5518781,  3.3348725,  4.35449  ,  6.3591585,\n",
              "        5.0373573,  7.244384 , 13.611444 , 17.205305 ,  3.5909088,\n",
              "        8.8954935,  5.195348 ,  7.615903 ,  6.342639 ], dtype=float32)"
            ]
          },
          "execution_count": 9,
          "metadata": {},
          "output_type": "execute_result"
        }
      ],
      "source": [
        "n = 10\n",
        "\n",
        "imgs = x_test[:n]\n",
        "encoded_imgs = encoder.predict(imgs, batch_size=n)\n",
        "encoded_imgs[0]"
      ]
    },
    {
      "cell_type": "code",
      "execution_count": null,
      "metadata": {
        "colab": {
          "base_uri": "https://localhost:8080/",
          "height": 292
        },
        "id": "J3qYDbMGH45J",
        "outputId": "6ed76971-4f64-4686-f883-534111f5ba1d"
      },
      "outputs": [
        {
          "name": "stdout",
          "output_type": "stream",
          "text": [
            "1/1 [==============================] - 0s 82ms/step\n"
          ]
        },
        {
          "data": {
            "image/png": "[encoded data removed]",
            "text/plain": [
              "<Figure size 2000x400 with 20 Axes>"
            ]
          },
          "metadata": {},
          "output_type": "display_data"
        }
      ],
      "source": [
        "decoded_imgs = decoder.predict(encoded_imgs, batch_size=n)\n",
        "\n",
        "plot_digits(imgs, decoded_imgs)"
      ]
    },
    {
      "cell_type": "markdown",
      "metadata": {
        "id": "Rqjn2JtCO_9m"
      },
      "source": [
        "Глубокий автоэнкодер"
      ]
    },
    {
      "cell_type": "code",
      "execution_count": null,
      "metadata": {
        "id": "jOvMNgSsH7Oc"
      },
      "outputs": [],
      "source": [
        "def create_deep_dense_ae():\n",
        "    # Размерность кодированного представления\n",
        "    encoding_dim = 49\n",
        "\n",
        "    # Энкодер\n",
        "    input_img = Input(shape=(28, 28, 1))\n",
        "    flat_img = Flatten()(input_img)\n",
        "    x = Dense(encoding_dim*3, activation='relu')(flat_img)\n",
        "    x = Dense(encoding_dim*2, activation='relu')(x)\n",
        "    encoded = Dense(encoding_dim, activation='linear')(x)\n",
        "    \n",
        "    # Декодер\n",
        "    input_encoded = Input(shape=(encoding_dim,))\n",
        "    x = Dense(encoding_dim*2, activation='relu')(input_encoded)\n",
        "    x = Dense(encoding_dim*3, activation='relu')(x)\n",
        "    flat_decoded = Dense(28*28, activation='sigmoid')(x)\n",
        "    decoded = Reshape((28, 28, 1))(flat_decoded)\n",
        "    \n",
        "    # Модели\n",
        "    encoder = Model(input_img, encoded, name=\"encoder\")\n",
        "    decoder = Model(input_encoded, decoded, name=\"decoder\")\n",
        "    autoencoder = Model(input_img, decoder(encoder(input_img)), name=\"autoencoder\")\n",
        "    return encoder, decoder, autoencoder\n",
        "\n",
        "d_encoder, d_decoder, d_autoencoder = create_deep_dense_ae()\n",
        "d_autoencoder.compile(optimizer='adam', loss='binary_crossentropy')"
      ]
    },
    {
      "cell_type": "code",
      "execution_count": null,
      "metadata": {
        "colab": {
          "base_uri": "https://localhost:8080/"
        },
        "id": "qylMcA7SOCja",
        "outputId": "81329339-68b9-4487-eb60-cc24b2fe73cc"
      },
      "outputs": [
        {
          "name": "stdout",
          "output_type": "stream",
          "text": [
            "Model: \"autoencoder\"\n",
            "_________________________________________________________________\n",
            " Layer (type)                Output Shape              Param #   \n",
            "=================================================================\n",
            " input_3 (InputLayer)        [(None, 28, 28, 1)]       0         \n",
            "                                                                 \n",
            " encoder (Functional)        (None, 49)                134750    \n",
            "                                                                 \n",
            " decoder (Functional)        (None, 28, 28, 1)         135485    \n",
            "                                                                 \n",
            "=================================================================\n",
            "Total params: 270,235\n",
            "Trainable params: 270,235\n",
            "Non-trainable params: 0\n",
            "_________________________________________________________________\n"
          ]
        }
      ],
      "source": [
        "d_autoencoder.summary()"
      ]
    },
    {
      "cell_type": "code",
      "execution_count": null,
      "metadata": {
        "colab": {
          "base_uri": "https://localhost:8080/"
        },
        "id": "M_iAmIWfOD-j",
        "outputId": "c61fe01a-e774-42d8-b04b-00c2770d812b"
      },
      "outputs": [
        {
          "name": "stdout",
          "output_type": "stream",
          "text": [
            "Epoch 1/100\n",
            "235/235 [==============================] - 8s 28ms/step - loss: 0.2229 - val_loss: 0.1478\n",
            "Epoch 2/100\n",
            "235/235 [==============================] - 5s 23ms/step - loss: 0.1321 - val_loss: 0.1194\n",
            "Epoch 3/100\n",
            "235/235 [==============================] - 6s 27ms/step - loss: 0.1146 - val_loss: 0.1086\n",
            "Epoch 4/100\n",
            "235/235 [==============================] - 5s 21ms/step - loss: 0.1063 - val_loss: 0.1019\n",
            "Epoch 5/100\n",
            "235/235 [==============================] - 6s 24ms/step - loss: 0.1016 - val_loss: 0.0986\n",
            "Epoch 6/100\n",
            "235/235 [==============================] - 6s 26ms/step - loss: 0.0982 - val_loss: 0.0952\n",
            "Epoch 7/100\n",
            "235/235 [==============================] - 5s 21ms/step - loss: 0.0955 - val_loss: 0.0930\n",
            "Epoch 8/100\n",
            "235/235 [==============================] - 6s 26ms/step - loss: 0.0934 - val_loss: 0.0913\n",
            "Epoch 9/100\n",
            "235/235 [==============================] - 5s 21ms/step - loss: 0.0918 - val_loss: 0.0902\n",
            "Epoch 10/100\n",
            "235/235 [==============================] - 7s 29ms/step - loss: 0.0904 - val_loss: 0.0886\n",
            "Epoch 11/100\n",
            "235/235 [==============================] - 5s 21ms/step - loss: 0.0893 - val_loss: 0.0880\n",
            "Epoch 12/100\n",
            "235/235 [==============================] - 6s 25ms/step - loss: 0.0880 - val_loss: 0.0866\n",
            "Epoch 13/100\n",
            "235/235 [==============================] - 6s 23ms/step - loss: 0.0869 - val_loss: 0.0858\n",
            "Epoch 14/100\n",
            "235/235 [==============================] - 5s 21ms/step - loss: 0.0860 - val_loss: 0.0852\n",
            "Epoch 15/100\n",
            "235/235 [==============================] - 6s 26ms/step - loss: 0.0851 - val_loss: 0.0838\n",
            "Epoch 16/100\n",
            "235/235 [==============================] - 5s 23ms/step - loss: 0.0843 - val_loss: 0.0833\n",
            "Epoch 17/100\n",
            "235/235 [==============================] - 6s 28ms/step - loss: 0.0836 - val_loss: 0.0827\n",
            "Epoch 18/100\n",
            "235/235 [==============================] - 5s 21ms/step - loss: 0.0830 - val_loss: 0.0822\n",
            "Epoch 19/100\n",
            "235/235 [==============================] - 6s 26ms/step - loss: 0.0824 - val_loss: 0.0816\n",
            "Epoch 20/100\n",
            "235/235 [==============================] - 5s 23ms/step - loss: 0.0820 - val_loss: 0.0810\n",
            "Epoch 21/100\n",
            "235/235 [==============================] - 6s 24ms/step - loss: 0.0814 - val_loss: 0.0807\n",
            "Epoch 22/100\n",
            "235/235 [==============================] - 6s 23ms/step - loss: 0.0811 - val_loss: 0.0804\n",
            "Epoch 23/100\n",
            "235/235 [==============================] - 5s 21ms/step - loss: 0.0806 - val_loss: 0.0803\n",
            "Epoch 24/100\n",
            "235/235 [==============================] - 6s 26ms/step - loss: 0.0803 - val_loss: 0.0797\n",
            "Epoch 25/100\n",
            "235/235 [==============================] - 5s 21ms/step - loss: 0.0799 - val_loss: 0.0794\n",
            "Epoch 26/100\n",
            "235/235 [==============================] - 6s 26ms/step - loss: 0.0796 - val_loss: 0.0789\n",
            "Epoch 27/100\n",
            "235/235 [==============================] - 5s 21ms/step - loss: 0.0792 - val_loss: 0.0786\n",
            "Epoch 28/100\n",
            "235/235 [==============================] - 5s 23ms/step - loss: 0.0790 - val_loss: 0.0786\n",
            "Epoch 29/100\n",
            "235/235 [==============================] - 6s 26ms/step - loss: 0.0786 - val_loss: 0.0782\n",
            "Epoch 30/100\n",
            "235/235 [==============================] - 5s 21ms/step - loss: 0.0784 - val_loss: 0.0782\n",
            "Epoch 31/100\n",
            "235/235 [==============================] - 6s 26ms/step - loss: 0.0782 - val_loss: 0.0778\n",
            "Epoch 32/100\n",
            "235/235 [==============================] - 5s 21ms/step - loss: 0.0780 - val_loss: 0.0775\n",
            "Epoch 33/100\n",
            "235/235 [==============================] - 6s 26ms/step - loss: 0.0777 - val_loss: 0.0776\n",
            "Epoch 34/100\n",
            "235/235 [==============================] - 5s 21ms/step - loss: 0.0775 - val_loss: 0.0771\n",
            "Epoch 35/100\n",
            "235/235 [==============================] - 5s 21ms/step - loss: 0.0773 - val_loss: 0.0771\n",
            "Epoch 36/100\n",
            "235/235 [==============================] - 6s 26ms/step - loss: 0.0772 - val_loss: 0.0767\n",
            "Epoch 37/100\n",
            "235/235 [==============================] - 5s 21ms/step - loss: 0.0770 - val_loss: 0.0769\n",
            "Epoch 38/100\n",
            "235/235 [==============================] - 6s 26ms/step - loss: 0.0769 - val_loss: 0.0765\n",
            "Epoch 39/100\n",
            "235/235 [==============================] - 5s 21ms/step - loss: 0.0767 - val_loss: 0.0763\n",
            "Epoch 40/100\n",
            "235/235 [==============================] - 6s 25ms/step - loss: 0.0765 - val_loss: 0.0766\n",
            "Epoch 41/100\n",
            "235/235 [==============================] - 5s 22ms/step - loss: 0.0764 - val_loss: 0.0759\n",
            "Epoch 42/100\n",
            "235/235 [==============================] - 5s 21ms/step - loss: 0.0762 - val_loss: 0.0760\n",
            "Epoch 43/100\n",
            "235/235 [==============================] - 6s 26ms/step - loss: 0.0762 - val_loss: 0.0759\n",
            "Epoch 44/100\n",
            "235/235 [==============================] - 5s 21ms/step - loss: 0.0760 - val_loss: 0.0758\n",
            "Epoch 45/100\n",
            "235/235 [==============================] - 6s 26ms/step - loss: 0.0759 - val_loss: 0.0760\n",
            "Epoch 46/100\n",
            "235/235 [==============================] - 5s 21ms/step - loss: 0.0757 - val_loss: 0.0755\n",
            "Epoch 47/100\n",
            "235/235 [==============================] - 6s 25ms/step - loss: 0.0757 - val_loss: 0.0753\n",
            "Epoch 48/100\n",
            "235/235 [==============================] - 5s 23ms/step - loss: 0.0755 - val_loss: 0.0752\n",
            "Epoch 49/100\n",
            "235/235 [==============================] - 5s 21ms/step - loss: 0.0754 - val_loss: 0.0754\n",
            "Epoch 50/100\n",
            "235/235 [==============================] - 6s 26ms/step - loss: 0.0753 - val_loss: 0.0750\n",
            "Epoch 51/100\n",
            "235/235 [==============================] - 5s 21ms/step - loss: 0.0752 - val_loss: 0.0752\n",
            "Epoch 52/100\n",
            "235/235 [==============================] - 6s 26ms/step - loss: 0.0752 - val_loss: 0.0749\n",
            "Epoch 53/100\n",
            "235/235 [==============================] - 5s 21ms/step - loss: 0.0751 - val_loss: 0.0747\n",
            "Epoch 54/100\n",
            "235/235 [==============================] - 5s 23ms/step - loss: 0.0749 - val_loss: 0.0747\n",
            "Epoch 55/100\n",
            "235/235 [==============================] - 6s 24ms/step - loss: 0.0749 - val_loss: 0.0746\n",
            "Epoch 56/100\n",
            "235/235 [==============================] - 5s 21ms/step - loss: 0.0748 - val_loss: 0.0746\n",
            "Epoch 57/100\n",
            "235/235 [==============================] - 6s 26ms/step - loss: 0.0747 - val_loss: 0.0747\n",
            "Epoch 58/100\n",
            "235/235 [==============================] - 5s 21ms/step - loss: 0.0746 - val_loss: 0.0744\n",
            "Epoch 59/100\n",
            "235/235 [==============================] - 6s 27ms/step - loss: 0.0745 - val_loss: 0.0744\n",
            "Epoch 60/100\n",
            "235/235 [==============================] - 5s 21ms/step - loss: 0.0745 - val_loss: 0.0744\n",
            "Epoch 61/100\n",
            "235/235 [==============================] - 5s 21ms/step - loss: 0.0744 - val_loss: 0.0743\n",
            "Epoch 62/100\n",
            "235/235 [==============================] - 6s 26ms/step - loss: 0.0743 - val_loss: 0.0743\n",
            "Epoch 63/100\n",
            "235/235 [==============================] - 5s 21ms/step - loss: 0.0743 - val_loss: 0.0740\n",
            "Epoch 64/100\n",
            "235/235 [==============================] - 6s 26ms/step - loss: 0.0742 - val_loss: 0.0741\n",
            "Epoch 65/100\n",
            "235/235 [==============================] - 5s 20ms/step - loss: 0.0742 - val_loss: 0.0740\n",
            "Epoch 66/100\n",
            "235/235 [==============================] - 5s 23ms/step - loss: 0.0741 - val_loss: 0.0741\n",
            "Epoch 67/100\n",
            "235/235 [==============================] - 5s 23ms/step - loss: 0.0740 - val_loss: 0.0740\n",
            "Epoch 68/100\n",
            "235/235 [==============================] - 5s 21ms/step - loss: 0.0740 - val_loss: 0.0739\n",
            "Epoch 69/100\n",
            "235/235 [==============================] - 6s 26ms/step - loss: 0.0739 - val_loss: 0.0739\n",
            "Epoch 70/100\n",
            "235/235 [==============================] - 5s 21ms/step - loss: 0.0738 - val_loss: 0.0736\n",
            "Epoch 71/100\n",
            "235/235 [==============================] - 6s 26ms/step - loss: 0.0738 - val_loss: 0.0737\n",
            "Epoch 72/100\n",
            "235/235 [==============================] - 5s 21ms/step - loss: 0.0737 - val_loss: 0.0735\n",
            "Epoch 73/100\n",
            "235/235 [==============================] - 5s 21ms/step - loss: 0.0737 - val_loss: 0.0735\n",
            "Epoch 74/100\n",
            "235/235 [==============================] - 6s 26ms/step - loss: 0.0736 - val_loss: 0.0733\n",
            "Epoch 75/100\n",
            "235/235 [==============================] - 5s 21ms/step - loss: 0.0736 - val_loss: 0.0733\n",
            "Epoch 76/100\n",
            "235/235 [==============================] - 6s 26ms/step - loss: 0.0735 - val_loss: 0.0733\n",
            "Epoch 77/100\n",
            "235/235 [==============================] - 5s 21ms/step - loss: 0.0735 - val_loss: 0.0734\n",
            "Epoch 78/100\n",
            "235/235 [==============================] - 6s 24ms/step - loss: 0.0734 - val_loss: 0.0734\n",
            "Epoch 79/100\n",
            "235/235 [==============================] - 5s 23ms/step - loss: 0.0734 - val_loss: 0.0734\n",
            "Epoch 80/100\n",
            "235/235 [==============================] - 5s 21ms/step - loss: 0.0733 - val_loss: 0.0732\n",
            "Epoch 81/100\n",
            "235/235 [==============================] - 6s 26ms/step - loss: 0.0733 - val_loss: 0.0732\n",
            "Epoch 82/100\n",
            "235/235 [==============================] - 5s 21ms/step - loss: 0.0732 - val_loss: 0.0732\n",
            "Epoch 83/100\n",
            "235/235 [==============================] - 6s 26ms/step - loss: 0.0732 - val_loss: 0.0729\n",
            "Epoch 84/100\n",
            "235/235 [==============================] - 5s 21ms/step - loss: 0.0731 - val_loss: 0.0732\n",
            "Epoch 85/100\n",
            "235/235 [==============================] - 5s 23ms/step - loss: 0.0731 - val_loss: 0.0731\n",
            "Epoch 86/100\n",
            "235/235 [==============================] - 6s 25ms/step - loss: 0.0730 - val_loss: 0.0732\n",
            "Epoch 87/100\n",
            "235/235 [==============================] - 5s 21ms/step - loss: 0.0731 - val_loss: 0.0732\n",
            "Epoch 88/100\n",
            "235/235 [==============================] - 6s 26ms/step - loss: 0.0730 - val_loss: 0.0730\n",
            "Epoch 89/100\n",
            "235/235 [==============================] - 5s 21ms/step - loss: 0.0729 - val_loss: 0.0728\n",
            "Epoch 90/100\n",
            "235/235 [==============================] - 6s 24ms/step - loss: 0.0729 - val_loss: 0.0727\n",
            "Epoch 91/100\n",
            "235/235 [==============================] - 5s 22ms/step - loss: 0.0728 - val_loss: 0.0728\n",
            "Epoch 92/100\n",
            "235/235 [==============================] - 5s 21ms/step - loss: 0.0728 - val_loss: 0.0728\n",
            "Epoch 93/100\n",
            "235/235 [==============================] - 6s 26ms/step - loss: 0.0728 - val_loss: 0.0728\n",
            "Epoch 94/100\n",
            "235/235 [==============================] - 5s 21ms/step - loss: 0.0728 - val_loss: 0.0727\n",
            "Epoch 95/100\n",
            "235/235 [==============================] - 6s 26ms/step - loss: 0.0727 - val_loss: 0.0726\n",
            "Epoch 96/100\n",
            "235/235 [==============================] - 5s 21ms/step - loss: 0.0726 - val_loss: 0.0726\n",
            "Epoch 97/100\n",
            "235/235 [==============================] - 5s 22ms/step - loss: 0.0726 - val_loss: 0.0725\n",
            "Epoch 98/100\n",
            "235/235 [==============================] - 6s 25ms/step - loss: 0.0726 - val_loss: 0.0725\n",
            "Epoch 99/100\n",
            "235/235 [==============================] - 5s 21ms/step - loss: 0.0726 - val_loss: 0.0725\n",
            "Epoch 100/100\n",
            "235/235 [==============================] - 6s 26ms/step - loss: 0.0725 - val_loss: 0.0723\n"
          ]
        },
        {
          "data": {
            "text/plain": [
              "<keras.callbacks.History at 0x7ff84789ba90>"
            ]
          },
          "execution_count": 13,
          "metadata": {},
          "output_type": "execute_result"
        }
      ],
      "source": [
        "d_autoencoder.fit(x_train, x_train,\n",
        "                  epochs=100,\n",
        "                  batch_size=256,\n",
        "                  shuffle=True,\n",
        "                  validation_data=(x_test, x_test))"
      ]
    },
    {
      "cell_type": "code",
      "execution_count": null,
      "metadata": {
        "colab": {
          "base_uri": "https://localhost:8080/",
          "height": 310
        },
        "id": "0YZgLwYnOKAH",
        "outputId": "74b7c274-2684-4f1b-b4b8-2fee92c6a63b"
      },
      "outputs": [
        {
          "name": "stdout",
          "output_type": "stream",
          "text": [
            "1/1 [==============================] - 0s 65ms/step\n",
            "1/1 [==============================] - 0s 73ms/step\n"
          ]
        },
        {
          "data": {
            "image/png": "[encoded data removed]",
            "text/plain": [
              "<Figure size 2000x400 with 20 Axes>"
            ]
          },
          "metadata": {},
          "output_type": "display_data"
        }
      ],
      "source": [
        "n = 10\n",
        "\n",
        "imgs = x_test[:n]\n",
        "encoded_imgs = d_encoder.predict(imgs, batch_size=n)\n",
        "encoded_imgs[0]\n",
        "\n",
        "decoded_imgs = d_decoder.predict(encoded_imgs, batch_size=n)\n",
        "\n",
        "plot_digits(imgs, decoded_imgs)"
      ]
    },
    {
      "cell_type": "markdown",
      "metadata": {
        "id": "6XOaSojAPFZu"
      },
      "source": [
        "Сверточный автоэнкодер"
      ]
    },
    {
      "cell_type": "code",
      "execution_count": null,
      "metadata": {
        "colab": {
          "base_uri": "https://localhost:8080/"
        },
        "id": "bpDbBPG5OKfb",
        "outputId": "5a1bd4d4-6ddb-4637-e99a-65972c9eb0bd"
      },
      "outputs": [
        {
          "name": "stdout",
          "output_type": "stream",
          "text": [
            "Model: \"autoencoder\"\n",
            "_________________________________________________________________\n",
            " Layer (type)                Output Shape              Param #   \n",
            "=================================================================\n",
            " input_5 (InputLayer)        [(None, 28, 28, 1)]       0         \n",
            "                                                                 \n",
            " encoder (Functional)        (None, 7, 7, 1)           24385     \n",
            "                                                                 \n",
            " decoder (Functional)        (None, 28, 28, 1)         24385     \n",
            "                                                                 \n",
            "=================================================================\n",
            "Total params: 48,770\n",
            "Trainable params: 48,770\n",
            "Non-trainable params: 0\n",
            "_________________________________________________________________\n"
          ]
        }
      ],
      "source": [
        "from keras.layers import Conv2D, MaxPooling2D, UpSampling2D\n",
        "\n",
        "def create_deep_conv_ae():\n",
        "    input_img = Input(shape=(28, 28, 1))\n",
        "\n",
        "    x = Conv2D(128, (7, 7), activation='relu', padding='same')(input_img)\n",
        "    x = MaxPooling2D((2, 2), padding='same')(x)\n",
        "    x = Conv2D(32, (2, 2), activation='relu', padding='same')(x)\n",
        "    x = MaxPooling2D((2, 2), padding='same')(x)\n",
        "    encoded = Conv2D(1, (7, 7), activation='relu', padding='same')(x)\n",
        "\n",
        "    # На этом моменте представление  (7, 7, 1) т.е. 49-размерное\n",
        "\n",
        "    input_encoded = Input(shape=(7, 7, 1))\n",
        "    x = Conv2D(32, (7, 7), activation='relu', padding='same')(input_encoded)\n",
        "    x = UpSampling2D((2, 2))(x)\n",
        "    x = Conv2D(128, (2, 2), activation='relu', padding='same')(x)\n",
        "    x = UpSampling2D((2, 2))(x)\n",
        "    decoded = Conv2D(1, (7, 7), activation='sigmoid', padding='same')(x)\n",
        "\n",
        "    # Модели\n",
        "    encoder = Model(input_img, encoded, name=\"encoder\")\n",
        "    decoder = Model(input_encoded, decoded, name=\"decoder\")\n",
        "    autoencoder = Model(input_img, decoder(encoder(input_img)), name=\"autoencoder\")\n",
        "    return encoder, decoder, autoencoder\n",
        "\n",
        "c_encoder, c_decoder, c_autoencoder = create_deep_conv_ae()\n",
        "c_autoencoder.compile(optimizer='adam', loss='binary_crossentropy')\n",
        "\n",
        "c_autoencoder.summary()"
      ]
    },
    {
      "cell_type": "code",
      "execution_count": null,
      "metadata": {
        "colab": {
          "background_save": true,
          "base_uri": "https://localhost:8080/"
        },
        "id": "-DO8Y9xEONmV",
        "outputId": "c36b68b3-806a-48a9-a879-6a6c23aa65e5"
      },
      "outputs": [
        {
          "name": "stdout",
          "output_type": "stream",
          "text": [
            "Epoch 1/64\n",
            "235/235 [==============================] - 1561s 7s/step - loss: 0.1796 - val_loss: 0.1029\n",
            "Epoch 2/64\n",
            "235/235 [==============================] - 1588s 7s/step - loss: 0.0963 - val_loss: 0.0894\n",
            "Epoch 3/64\n",
            "235/235 [==============================] - 1588s 7s/step - loss: 0.0884 - val_loss: 0.0847\n",
            "Epoch 4/64\n",
            " 21/235 [=>............................] - ETA: 24:55 - loss: 0.0853"
          ]
        }
      ],
      "source": [
        "c_autoencoder.fit(x_train, x_train,\n",
        "                epochs=64,\n",
        "                batch_size=256,\n",
        "                shuffle=True,\n",
        "                validation_data=(x_test, x_test))"
      ]
    },
    {
      "cell_type": "code",
      "execution_count": null,
      "metadata": {
        "colab": {
          "base_uri": "https://localhost:8080/",
          "height": 365
        },
        "id": "oV24FcepOjUm",
        "outputId": "8a2eb827-9d9d-4c8f-b7be-2f42fe1dd81b"
      },
      "outputs": [
        {
          "name": "stderr",
          "output_type": "stream",
          "text": [
            "WARNING:tensorflow:5 out of the last 5 calls to <function Model.make_predict_function.<locals>.predict_function at 0x7ff8629aedc0> triggered tf.function retracing. Tracing is expensive and the excessive number of tracings could be due to (1) creating @tf.function repeatedly in a loop, (2) passing tensors with different shapes, (3) passing Python objects instead of tensors. For (1), please define your @tf.function outside of the loop. For (2), @tf.function has reduce_retracing=True option that can avoid unnecessary retracing. For (3), please refer to https://www.tensorflow.org/guide/function#controlling_retracing and https://www.tensorflow.org/api_docs/python/tf/function for  more details.\n"
          ]
        },
        {
          "name": "stdout",
          "output_type": "stream",
          "text": [
            "1/1 [==============================] - 0s 113ms/step\n"
          ]
        },
        {
          "name": "stderr",
          "output_type": "stream",
          "text": [
            "WARNING:tensorflow:6 out of the last 6 calls to <function Model.make_predict_function.<locals>.predict_function at 0x7ff86290b3a0> triggered tf.function retracing. Tracing is expensive and the excessive number of tracings could be due to (1) creating @tf.function repeatedly in a loop, (2) passing tensors with different shapes, (3) passing Python objects instead of tensors. For (1), please define your @tf.function outside of the loop. For (2), @tf.function has reduce_retracing=True option that can avoid unnecessary retracing. For (3), please refer to https://www.tensorflow.org/guide/function#controlling_retracing and https://www.tensorflow.org/api_docs/python/tf/function for  more details.\n"
          ]
        },
        {
          "name": "stdout",
          "output_type": "stream",
          "text": [
            "1/1 [==============================] - 0s 96ms/step\n"
          ]
        },
        {
          "data": {
            "image/png": "[encoded data removed]",
            "text/plain": [
              "<Figure size 2000x400 with 20 Axes>"
            ]
          },
          "metadata": {},
          "output_type": "display_data"
        }
      ],
      "source": [
        "n = 10\n",
        "\n",
        "imgs = x_test[:n]\n",
        "encoded_imgs = c_encoder.predict(imgs, batch_size=n)\n",
        "decoded_imgs = c_decoder.predict(encoded_imgs, batch_size=n)\n",
        "\n",
        "plot_digits(imgs, decoded_imgs)"
      ]
    },
    {
      "cell_type": "markdown",
      "metadata": {
        "id": "CrmTbtFLPJea"
      },
      "source": [
        "Denoising автоэнкодер"
      ]
    },
    {
      "cell_type": "code",
      "execution_count": null,
      "metadata": {
        "id": "RvLTNp2hOqoO"
      },
      "outputs": [],
      "source": [
        "import keras.backend as K\n",
        "from keras.layers import Lambda\n",
        "\n",
        "batch_size = 16\n",
        "\n",
        "def create_denoising_model(autoencoder):\n",
        "    def add_noise(x):\n",
        "        noise_factor = 0.5\n",
        "        x = x + K.random_normal(x.get_shape(), 0.5, noise_factor)\n",
        "        x = K.clip(x, 0., 1.)\n",
        "        return x\n",
        "\n",
        "    input_img  = Input(batch_shape=(batch_size, 28, 28, 1))\n",
        "    noised_img = Lambda(add_noise)(input_img)\n",
        "\n",
        "    noiser = Model(input_img, noised_img, name=\"noiser\")\n",
        "    denoiser_model = Model(input_img, autoencoder(noiser(input_img)), name=\"denoiser\")\n",
        "    return noiser, denoiser_model\n",
        "\n",
        "\n",
        "noiser, denoiser_model = create_denoising_model(autoencoder)\n",
        "denoiser_model.compile(optimizer='adam', loss='binary_crossentropy')"
      ]
    },
    {
      "cell_type": "code",
      "execution_count": null,
      "metadata": {
        "id": "BVt0vr50OsSX"
      },
      "outputs": [],
      "source": [
        "denoiser_model.fit(x_train, x_train,\n",
        "                   epochs=200,\n",
        "                   batch_size=batch_size,\n",
        "                   shuffle=True,\n",
        "                   validation_data=(x_test, x_test))"
      ]
    },
    {
      "cell_type": "code",
      "execution_count": null,
      "metadata": {
        "id": "Iag5X2P9Otqb"
      },
      "outputs": [],
      "source": [
        "n = 10\n",
        "\n",
        "imgs = x_test[:batch_size]\n",
        "noised_imgs = noiser.predict(imgs, batch_size=batch_size)\n",
        "encoded_imgs = encoder.predict(noised_imgs[:n],  batch_size=n)\n",
        "decoded_imgs = decoder.predict(encoded_imgs[:n], batch_size=n)\n",
        "\n",
        "plot_digits(imgs[:n], noised_imgs, decoded_imgs)"
      ]
    },
    {
      "cell_type": "markdown",
      "metadata": {
        "id": "un8sygLTPLt7"
      },
      "source": [
        "Разреженный (Sparse) автоэнкодер"
      ]
    },
    {
      "cell_type": "code",
      "execution_count": null,
      "metadata": {
        "id": "NksuridaOwjo"
      },
      "outputs": [],
      "source": [
        "from keras.regularizers import L1L2\n",
        "\n",
        "def create_sparse_ae():\n",
        "    encoding_dim = 16\n",
        "    lambda_l1 = 0.00001\n",
        "    \n",
        "    # Энкодер\n",
        "    input_img = Input(shape=(28, 28, 1))\n",
        "    flat_img = Flatten()(input_img)\n",
        "    x = Dense(encoding_dim*3, activation='relu')(flat_img)\n",
        "    x = Dense(encoding_dim*2, activation='relu')(x)\n",
        "    encoded = Dense(encoding_dim, activation='linear', activity_regularizer=L1L2(lambda_l1))(x)\n",
        "    \n",
        "    # Декодер\n",
        "    input_encoded = Input(shape=(encoding_dim,))\n",
        "    x = Dense(encoding_dim*2, activation='relu')(input_encoded)\n",
        "    x = Dense(encoding_dim*3, activation='relu')(x)\n",
        "    flat_decoded = Dense(28*28, activation='sigmoid')(x)\n",
        "    decoded = Reshape((28, 28, 1))(flat_decoded)\n",
        "    \n",
        "    # Модели\n",
        "    encoder = Model(input_img, encoded, name=\"encoder\")\n",
        "    decoder = Model(input_encoded, decoded, name=\"decoder\")\n",
        "    autoencoder = Model(input_img, decoder(encoder(input_img)), name=\"autoencoder\")\n",
        "    return encoder, decoder, autoencoder\n",
        "\n",
        "s_encoder, s_decoder, s_autoencoder = create_sparse_ae()\n",
        "s_autoencoder.compile(optimizer='adam', loss='binary_crossentropy')"
      ]
    },
    {
      "cell_type": "code",
      "execution_count": null,
      "metadata": {
        "id": "_de6dZzROyXj"
      },
      "outputs": [],
      "source": [
        "s_autoencoder.fit(x_train, x_train,\n",
        "                epochs=400,\n",
        "                batch_size=256,\n",
        "                shuffle=True,\n",
        "                validation_data=(x_test, x_test))"
      ]
    },
    {
      "cell_type": "code",
      "execution_count": null,
      "metadata": {
        "id": "p0cgwPkPOz2L"
      },
      "outputs": [],
      "source": [
        "n = 10\n",
        "\n",
        "imgs = x_test[:n]\n",
        "encoded_imgs = s_encoder.predict(imgs, batch_size=n)\n",
        "encoded_imgs[1]"
      ]
    },
    {
      "cell_type": "code",
      "execution_count": null,
      "metadata": {
        "id": "4dVmEbQoO1v5"
      },
      "outputs": [],
      "source": [
        "decoded_imgs = s_decoder.predict(encoded_imgs, batch_size=n)\n",
        "\n",
        "plot_digits(imgs, decoded_imgs)\n"
      ]
    },
    {
      "cell_type": "code",
      "execution_count": null,
      "metadata": {
        "id": "9Kh7En2YO2Nu"
      },
      "outputs": [],
      "source": [
        "imgs = x_test\n",
        "encoded_imgs = s_encoder.predict(imgs, batch_size=16)\n",
        "codes = np.vstack([encoded_imgs.mean(axis=0)]*10)\n",
        "np.fill_diagonal(codes, encoded_imgs.max(axis=0))\n",
        "\n",
        "decoded_features = s_decoder.predict(codes, batch_size=16)\n",
        "plot_digits(decoded_features)\n"
      ]
    },
    {
      "cell_type": "code",
      "execution_count": null,
      "metadata": {
        "id": "c5U9VWHIO4y5"
      },
      "outputs": [],
      "source": []
    }
  ],
  "metadata": {
    "accelerator": "GPU",
    "colab": {
      "provenance": [],
      "include_colab_link": true
    },
    "gpuClass": "standard",
    "kernelspec": {
      "display_name": "Python 3",
      "name": "python3"
    },
    "language_info": {
      "name": "python"
    }
  },
  "nbformat": 4,
  "nbformat_minor": 0
}